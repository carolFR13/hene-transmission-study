{
 "cells": [
  {
   "cell_type": "markdown",
   "metadata": {},
   "source": [
    "## Analysing He-Ne measurements with optics package.\n",
    "\n",
    "Here we are providing an analysis on a set of experimental measurements where we obtain simoultaneously the reflected and transmitted power, using an experimental set-up formed by two triangular prisms coupled together in order to study the frustrated total internal reflection (FTIR)."
   ]
  },
  {
   "cell_type": "markdown",
   "metadata": {},
   "source": [
    "We start by importing the ```Monochromatic``` class from the ```optics``` package. We will also need ```numpy``` and ```matplotlib``` for this analysis.\n",
    "\n",
    "The ```Monochromatic``` class allows us to read the measurements as well as perform some computations in order to obtain the magnitudes we want to study from the measurements."
   ]
  },
  {
   "cell_type": "code",
   "execution_count": 1,
   "metadata": {},
   "outputs": [],
   "source": [
    "from optics import Monochromatic, report\n",
    "import numpy as np\n",
    "import matplotlib.pyplot as plt"
   ]
  },
  {
   "cell_type": "markdown",
   "metadata": {},
   "source": [
    "We start by inicialazing an object from that class by giving as a parameter the path of the folder were we store the files which contain the measurements."
   ]
  },
  {
   "cell_type": "code",
   "execution_count": 2,
   "metadata": {},
   "outputs": [],
   "source": [
    "folder_path = 'sources/set1/'\n",
    "\n",
    "obj = Monochromatic(folder_path)"
   ]
  },
  {
   "cell_type": "markdown",
   "metadata": {},
   "source": [
    "Once we have inicialiced the object, we can call its methods in order to obtain the desired data. We will start by calling the ```_adjust_data()``` method in order to obtain a dictionary with all the meassured data organiced. \n",
    "\n",
    "By calling that method instead of ```_get_data()``` we are already obtaining the data adjusted so that each value of the measured power is associated to the corresponding angle where it was measured. We do the adjustment according to the values given in the ```data_info.txt``` file where we see the initial and final values in each case and its corresponding angles."
   ]
  },
  {
   "cell_type": "code",
   "execution_count": 3,
   "metadata": {},
   "outputs": [
    {
     "name": "stdout",
     "output_type": "stream",
     "text": [
      "Label: a_r_TE\n",
      " T\n",
      "    1:\n",
      "      Measured power: [1.305116e-07 1.306288e-07 1.305702e-07 1.307403e-07 1.297851e-07]\n",
      "      Angles: [360.         359.9512987  359.9025974  359.8538961  359.80519481]\n",
      "    2:\n",
      "      Measured power: [2.479623e-07 2.434621e-07 2.472123e-07 2.397138e-07 2.474622e-07]\n",
      "      Angles: [360.         359.9512987  359.9025974  359.8538961  359.80519481]\n",
      " R\n",
      "    1:\n",
      "      Measured power: [0.00214681 0.00214541 0.00214413 0.00212601 0.00209405]\n",
      "      Angles: [360.         359.9512987  359.9025974  359.8538961  359.80519481]\n",
      "    2:\n",
      "      Measured power: [0.0020001  0.00199892 0.00199877 0.00202795 0.00202855]\n",
      "      Angles: [360.         359.9512987  359.9025974  359.8538961  359.80519481]\n",
      "\n",
      "\n",
      "Label: a_r_TM\n",
      " T\n",
      "    1:\n",
      "      Measured power: [1.788858e-07 1.789677e-07 1.799053e-07 1.804734e-07 1.801102e-07]\n",
      "      Angles: [360.         359.9512987  359.9025974  359.8538961  359.80519481]\n",
      "    2:\n",
      "      Measured power: [2.852071e-07 2.822076e-07 2.909559e-07 2.937063e-07 2.962049e-07]\n",
      "      Angles: [360.         359.9512987  359.9025974  359.8538961  359.80519481]\n",
      " R\n",
      "    1:\n",
      "      Measured power: [0.00205682 0.00205367 0.00205308 0.00206717 0.00207272]\n",
      "      Angles: [360.         359.9512987  359.9025974  359.8538961  359.80519481]\n",
      "    2:\n",
      "      Measured power: [0.00205094 0.00205192 0.00205092 0.00205094 0.00205285]\n",
      "      Angles: [360.         359.9512987  359.9025974  359.8538961  359.80519481]\n",
      "\n",
      "\n"
     ]
    }
   ],
   "source": [
    "# the method uploads the internal dictionary 'self.measured_data'\n",
    "obj._adjust_data()\n",
    "\n",
    "#we print the dictionary in order to see its structure:\n",
    "\n",
    "for key, dict in obj.adjusted_data.items():\n",
    "    print(f\"Label: {key}\")\n",
    "    for key2, dict2 in dict.items():\n",
    "        print(f' {key2}')\n",
    "        for key3, arrays in dict2.items():\n",
    "            print(f\"    {key3}:\")\n",
    "            print(f\"      Measured power: {arrays[0][:5]}\")\n",
    "            print(f\"      Angles: {arrays[1][:5]}\")\n",
    "    print('\\n')"
   ]
  },
  {
   "cell_type": "markdown",
   "metadata": {},
   "source": [
    "We note here that in the previous notation we are using the labels 1 and 2 to refer to the detector used to measure either the transmitted or the reflected power. \n",
    "\n",
    "According to the structure used to name the files with the measurements, described in ```name_format.txt```, the labels 1 and 2 refer to the order of the detectors, that is: \n",
    "\n",
    "- 1 : T -> S120UV ; R -> S121B\n",
    "- 2 : T -> S121B ; R -> S120UV\n",
    "\n",
    "We make a change in those labels in order to be:\n",
    "\n",
    "- 1 : detector S120UV\n",
    "- 2 : detector S121B"
   ]
  },
  {
   "cell_type": "markdown",
   "metadata": {},
   "source": [
    "Since we are using two different detectors when performing the measurment, we have a constant associated to each detector in the form: \n",
    "\n",
    "- 1st measurement: $ \\hspace{0.5cm} P_{R,1} = K_1 r P  \\hspace{0.5cm} P_{T,2} = K_2 t P $\n",
    "- 2nd measurement: $\\hspace{0.4cm} P_{R,2} = K_2 r P'  \\hspace{0.5cm} P_{T,1} = K_1 t P' $ \n",
    "\n",
    "where $P$ is the emited power in the 1st measurement, $P'$ the emited power in the second measurement, $K_{1,2}$ the constants associated to each detector and $P_{R,T,1,2}$ the measured power. The subscripts $1,2$ here are refearing to the detector used. \n",
    "\n",
    "From the previous we can compute the fraction $K_1/K_2$:\n",
    "\n",
    "$$ \\frac{K_1}{K_2} = \\sqrt{\\frac{P_{R,1 P_{T,1}}}{P_{R,2} P_{T,2}}}$$\n",
    "\n",
    "With that result we can correct the measured power in order to be independent from the detector used (we correct the values in order to be all dependent on the same detector). In order to do that, we can use the ```_get_constants()``` and ```_corrected_values()``` methods to obtain those values."
   ]
  },
  {
   "cell_type": "code",
   "execution_count": 4,
   "metadata": {},
   "outputs": [
    {
     "name": "stdout",
     "output_type": "stream",
     "text": [
      "Label: a_r_TE\n",
      "K1/K2: [0.75162784 0.75885921 0.75271509 0.75615858 0.73579791]\n",
      " T\n",
      "    1:\n",
      "      Measured power: [1.305116e-07 1.306288e-07 1.305702e-07 1.307403e-07 1.297851e-07]\n",
      "      Corrected power: [1.305116e-07 1.306288e-07 1.305702e-07 1.307403e-07 1.297851e-07]\n",
      "    2:\n",
      "      Measured power: [2.479623e-07 2.434621e-07 2.472123e-07 2.397138e-07 2.474622e-07]\n",
      "      Corrected power: [1.86375368e-07 1.84753456e-07 1.86080428e-07 1.81261646e-07\n",
      " 1.82082169e-07]\n",
      " R\n",
      "    1:\n",
      "      Measured power: [0.00214681 0.00214541 0.00214413 0.00212601 0.00209405]\n",
      "      Corrected power: [0.00214681 0.00214541 0.00214413 0.00212601 0.00209405]\n",
      "    2:\n",
      "      Measured power: [0.0020001  0.00199892 0.00199877 0.00202795 0.00202855]\n",
      "      Corrected power: [0.00150333 0.0015169  0.00150451 0.00153345 0.0014926 ]\n",
      "\n",
      "\n",
      "Label: a_r_TM\n",
      "K1/K2: [0.7931029  0.79668689 0.78675136 0.78697503 0.78354588]\n",
      " T\n",
      "    1:\n",
      "      Measured power: [1.788858e-07 1.789677e-07 1.799053e-07 1.804734e-07 1.801102e-07]\n",
      "      Corrected power: [1.788858e-07 1.789677e-07 1.799053e-07 1.804734e-07 1.801102e-07]\n",
      "    2:\n",
      "      Measured power: [2.852071e-07 2.822076e-07 2.909559e-07 2.937063e-07 2.962049e-07]\n",
      "      Corrected power: [2.26198578e-07 2.24831095e-07 2.28909949e-07 2.31139526e-07\n",
      " 2.32090128e-07]\n",
      " R\n",
      "    1:\n",
      "      Measured power: [0.00205682 0.00205367 0.00205308 0.00206717 0.00207272]\n",
      "      Corrected power: [0.00205682 0.00205367 0.00205308 0.00206717 0.00207272]\n",
      "    2:\n",
      "      Measured power: [0.00205094 0.00205192 0.00205092 0.00205094 0.00205285]\n",
      "      Corrected power: [0.00162661 0.00163474 0.00161356 0.00161404 0.0016085 ]\n",
      "\n",
      "\n"
     ]
    }
   ],
   "source": [
    "obj._get_constants()\n",
    "obj._corrected_values()\n",
    "\n",
    "for key, dict in obj.adjusted_data.items():\n",
    "    print(f\"Label: {key}\")\n",
    "    print(f\"K1/K2: {obj.constants[key][:5]}\")\n",
    "    for key2, dict2 in dict.items():\n",
    "        print(f' {key2}')\n",
    "        for key3, arrays in dict2.items():\n",
    "            print(f\"    {key3}:\")\n",
    "            print(f\"      Measured power: {arrays[0][:5]}\")\n",
    "            print(f\"      Corrected power: {obj.corrected_data[key][key2][key3][0][:5]}\")  \n",
    "    print('\\n')"
   ]
  },
  {
   "cell_type": "markdown",
   "metadata": {},
   "source": [
    "Since we have now the measurements of the transmitted and reflected power independent of the detector we can now compute the reflectance and transmittance from those values as it follows:\n",
    "\n",
    "$$ R = \\frac{P_R}{P_R + P_T}  \\hspace{0.5cm} T = \\frac{P_T}{P_T + P_R}$$\n",
    "\n",
    "We have 2 values for each of the measured power, that is, we have $P_{R,1}$, $P_{R,2}$, $P_{T,1}$ and $P_{T,2}$, according to the used detector. However, when we compute the reflectance and transmittance as showed above we are eliminating the fluctuations of the laser so we need to use the values taken in the same measurement, that is: \n",
    "\n",
    "- For the 1st measurement: $\\hspace{0.5cm} R = \\frac{P_{R,2}}{P_{R,2} + P_{T,1}}  \\hspace{0.5cm} T = \\frac{P_{T,1}}{P_{T,1} + P_{R,2}}$\n",
    "- For the 2nd measurement: $\\hspace{0.4cm} R = \\frac{P_{R,1}}{P_{R,1} + P_{T,2}}  \\hspace{0.5cm} T = \\frac{P_{T,2}}{P_{T,2} + P_{R,1}}$\n",
    "\n",
    "That's what we do when we call the method ``` _get_transmittance()```. The dictionary we obtain in this case uses the labels 1 and 2 to refer to the measurement. If everything is correct we expect to find the same values in both measurements."
   ]
  },
  {
   "cell_type": "code",
   "execution_count": 5,
   "metadata": {},
   "outputs": [
    {
     "name": "stdout",
     "output_type": "stream",
     "text": [
      "Label: a_r_TE\n",
      " T\n",
      "    1:\n",
      "      T/R : [8.68072888e-05 8.61081515e-05 8.67785725e-05 8.52517263e-05\n",
      " 8.69446821e-05]\n",
      "    2:\n",
      "      T/R : [8.68072888e-05 8.61081515e-05 8.67785725e-05 8.52517263e-05\n",
      " 8.69446821e-05]\n",
      " R\n",
      "    2:\n",
      "      T/R : [0.99991319 0.99991389 0.99991322 0.99991475 0.99991306]\n",
      "    1:\n",
      "      T/R : [0.99991319 0.99991389 0.99991322 0.99991475 0.99991306]\n",
      "\n",
      "\n",
      "Label: a_r_TM\n",
      " T\n",
      "    1:\n",
      "      T/R : [0.00010996 0.00010947 0.00011148 0.0001118  0.00011196]\n",
      "    2:\n",
      "      T/R : [0.00010996 0.00010947 0.00011148 0.0001118  0.00011196]\n",
      " R\n",
      "    2:\n",
      "      T/R : [0.99989004 0.99989053 0.99988852 0.9998882  0.99988804]\n",
      "    1:\n",
      "      T/R : [0.99989004 0.99989053 0.99988852 0.9998882  0.99988804]\n",
      "\n",
      "\n"
     ]
    }
   ],
   "source": [
    "obj._get_transmittance()\n",
    "\n",
    "for key, dict in obj.data.items():\n",
    "    print(f\"Label: {key}\")\n",
    "    for key2, dict2 in dict.items():\n",
    "        print(f' {key2}')\n",
    "        for key3, arrays in dict2.items():\n",
    "            print(f\"    {key3}:\")\n",
    "            print(f\"      T/R : {arrays[0][:5]}\")\n",
    "            #print(f\"      Angles : {arrays[1][:5]}\")\n",
    "    print('\\n')"
   ]
  },
  {
   "cell_type": "markdown",
   "metadata": {},
   "source": [
    "Finally we are going to use the report funcion in order to create a pdf file that displays all the information from the desired set of measurements."
   ]
  },
  {
   "cell_type": "code",
   "execution_count": 6,
   "metadata": {},
   "outputs": [],
   "source": [
    "report(folder_path,'report.pdf',10)"
   ]
  }
 ],
 "metadata": {
  "kernelspec": {
   "display_name": "ftir-venv",
   "language": "python",
   "name": "python3"
  },
  "language_info": {
   "codemirror_mode": {
    "name": "ipython",
    "version": 3
   },
   "file_extension": ".py",
   "mimetype": "text/x-python",
   "name": "python",
   "nbconvert_exporter": "python",
   "pygments_lexer": "ipython3",
   "version": "3.11.4"
  }
 },
 "nbformat": 4,
 "nbformat_minor": 2
}
